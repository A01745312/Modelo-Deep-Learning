{
  "cells": [
    {
      "cell_type": "markdown",
      "metadata": {
        "id": "fZC2FSlIS8ag"
      },
      "source": [
        "# Implementación de un modelo de deep learning (Portafolio Implementación)\n",
        "\n",
        "#### Paula Sophia Santoyo Arteaga\n",
        "#### A01745312\n",
        "\n",
        "---\n",
        "\n",
        "**Instrucciones**\n",
        "\n",
        "- Implementa una arquitectura de deep learning para solucionar el problema. Lo que se busca es que apliques correcta y efectivamente las técnicas vistas en el módulo.\n",
        "- Analiza los resultados de tu modelo set de pruebas y validación.\n",
        "- Mejora tu modelo usando técnicas de regularización, ajustando hiper parámetros, modificando la arquitectura de tu modelo o buscando otro modelo.\n",
        "- Documenta y explica cuáles son los cambios que funcionaron y por qué funcionaron.\n",
        "- Prueba tu implementación con un set de datos y realiza algunas predicciones. Las predicciones las puedes correr en consola o las puedes implementar con una interfaz gráfica apoyándote en los visto en otros módulos.\n",
        "\n",
        "---\n",
        "\n",
        "## **Introducción**\n",
        "\n",
        "Este análisis tiene como objetivo desarrollar un modelo para evaluar el sentimiento de las reseñas de películas de Marvel, con énfasis en Spider-Man: No Way Home. Se busca analizar la polaridad y subjetividad de las reseñas, permitiendo una comprensión más profunda de cómo los espectadores perciben la película. Este enfoque sienta las bases para un modelo más amplio que pueda aplicarse a reseñas de otras películas de Marvel en el futuro."
      ]
    },
    {
      "cell_type": "code",
      "execution_count": 1,
      "metadata": {
        "colab": {
          "base_uri": "https://localhost:8080/",
          "height": 310
        },
        "id": "XWD4-0M8HOoN",
        "outputId": "746aa581-a3cc-4f1a-a2f1-1874c157d963"
      },
      "outputs": [
        {
          "output_type": "execute_result",
          "data": {
            "text/plain": [
              "     Date of Review                 User  Usefulness Vote  Total Votes  \\\n",
              "0     19 March 2022           Neptune165              313          445   \n",
              "1  18 December 2021     BandSAboutMovies             1373         2145   \n",
              "2  21 December 2021         IPyaarCinema              380          596   \n",
              "3  16 December 2021  jack_o_hasanov_imdb              611          995   \n",
              "4     12 March 2022       paul_haakonsen              202          330   \n",
              "\n",
              "                                        Review Title  \\\n",
              "0  I consider myself to be a big fan of Marvel an...   \n",
              "1                        Somehow better than Endgame   \n",
              "2                             Nonsense And Nostalgia   \n",
              "3                                     Just Awesome !   \n",
              "4                     Definitely one for the fans...   \n",
              "\n",
              "                                              Review  User_Rating  \n",
              "0  Awful movie. The plot sucked and had awful pac...            5  \n",
              "1  It's hard to discuss this movie and not get in...           10  \n",
              "2  Review By Kamal KI don't think this film was w...            4  \n",
              "3  It was very enjoyable to watch in the cinema. ...            9  \n",
              "4  Right, well I am by no means a fan of superher...            6  "
            ],
            "text/html": [
              "\n",
              "  <div id=\"df-58808f53-03cf-4996-90c3-9a746e3b99f9\" class=\"colab-df-container\">\n",
              "    <div>\n",
              "<style scoped>\n",
              "    .dataframe tbody tr th:only-of-type {\n",
              "        vertical-align: middle;\n",
              "    }\n",
              "\n",
              "    .dataframe tbody tr th {\n",
              "        vertical-align: top;\n",
              "    }\n",
              "\n",
              "    .dataframe thead th {\n",
              "        text-align: right;\n",
              "    }\n",
              "</style>\n",
              "<table border=\"1\" class=\"dataframe\">\n",
              "  <thead>\n",
              "    <tr style=\"text-align: right;\">\n",
              "      <th></th>\n",
              "      <th>Date of Review</th>\n",
              "      <th>User</th>\n",
              "      <th>Usefulness Vote</th>\n",
              "      <th>Total Votes</th>\n",
              "      <th>Review Title</th>\n",
              "      <th>Review</th>\n",
              "      <th>User_Rating</th>\n",
              "    </tr>\n",
              "  </thead>\n",
              "  <tbody>\n",
              "    <tr>\n",
              "      <th>0</th>\n",
              "      <td>19 March 2022</td>\n",
              "      <td>Neptune165</td>\n",
              "      <td>313</td>\n",
              "      <td>445</td>\n",
              "      <td>I consider myself to be a big fan of Marvel an...</td>\n",
              "      <td>Awful movie. The plot sucked and had awful pac...</td>\n",
              "      <td>5</td>\n",
              "    </tr>\n",
              "    <tr>\n",
              "      <th>1</th>\n",
              "      <td>18 December 2021</td>\n",
              "      <td>BandSAboutMovies</td>\n",
              "      <td>1373</td>\n",
              "      <td>2145</td>\n",
              "      <td>Somehow better than Endgame</td>\n",
              "      <td>It's hard to discuss this movie and not get in...</td>\n",
              "      <td>10</td>\n",
              "    </tr>\n",
              "    <tr>\n",
              "      <th>2</th>\n",
              "      <td>21 December 2021</td>\n",
              "      <td>IPyaarCinema</td>\n",
              "      <td>380</td>\n",
              "      <td>596</td>\n",
              "      <td>Nonsense And Nostalgia</td>\n",
              "      <td>Review By Kamal KI don't think this film was w...</td>\n",
              "      <td>4</td>\n",
              "    </tr>\n",
              "    <tr>\n",
              "      <th>3</th>\n",
              "      <td>16 December 2021</td>\n",
              "      <td>jack_o_hasanov_imdb</td>\n",
              "      <td>611</td>\n",
              "      <td>995</td>\n",
              "      <td>Just Awesome !</td>\n",
              "      <td>It was very enjoyable to watch in the cinema. ...</td>\n",
              "      <td>9</td>\n",
              "    </tr>\n",
              "    <tr>\n",
              "      <th>4</th>\n",
              "      <td>12 March 2022</td>\n",
              "      <td>paul_haakonsen</td>\n",
              "      <td>202</td>\n",
              "      <td>330</td>\n",
              "      <td>Definitely one for the fans...</td>\n",
              "      <td>Right, well I am by no means a fan of superher...</td>\n",
              "      <td>6</td>\n",
              "    </tr>\n",
              "  </tbody>\n",
              "</table>\n",
              "</div>\n",
              "    <div class=\"colab-df-buttons\">\n",
              "\n",
              "  <div class=\"colab-df-container\">\n",
              "    <button class=\"colab-df-convert\" onclick=\"convertToInteractive('df-58808f53-03cf-4996-90c3-9a746e3b99f9')\"\n",
              "            title=\"Convert this dataframe to an interactive table.\"\n",
              "            style=\"display:none;\">\n",
              "\n",
              "  <svg xmlns=\"http://www.w3.org/2000/svg\" height=\"24px\" viewBox=\"0 -960 960 960\">\n",
              "    <path d=\"M120-120v-720h720v720H120Zm60-500h600v-160H180v160Zm220 220h160v-160H400v160Zm0 220h160v-160H400v160ZM180-400h160v-160H180v160Zm440 0h160v-160H620v160ZM180-180h160v-160H180v160Zm440 0h160v-160H620v160Z\"/>\n",
              "  </svg>\n",
              "    </button>\n",
              "\n",
              "  <style>\n",
              "    .colab-df-container {\n",
              "      display:flex;\n",
              "      gap: 12px;\n",
              "    }\n",
              "\n",
              "    .colab-df-convert {\n",
              "      background-color: #E8F0FE;\n",
              "      border: none;\n",
              "      border-radius: 50%;\n",
              "      cursor: pointer;\n",
              "      display: none;\n",
              "      fill: #1967D2;\n",
              "      height: 32px;\n",
              "      padding: 0 0 0 0;\n",
              "      width: 32px;\n",
              "    }\n",
              "\n",
              "    .colab-df-convert:hover {\n",
              "      background-color: #E2EBFA;\n",
              "      box-shadow: 0px 1px 2px rgba(60, 64, 67, 0.3), 0px 1px 3px 1px rgba(60, 64, 67, 0.15);\n",
              "      fill: #174EA6;\n",
              "    }\n",
              "\n",
              "    .colab-df-buttons div {\n",
              "      margin-bottom: 4px;\n",
              "    }\n",
              "\n",
              "    [theme=dark] .colab-df-convert {\n",
              "      background-color: #3B4455;\n",
              "      fill: #D2E3FC;\n",
              "    }\n",
              "\n",
              "    [theme=dark] .colab-df-convert:hover {\n",
              "      background-color: #434B5C;\n",
              "      box-shadow: 0px 1px 3px 1px rgba(0, 0, 0, 0.15);\n",
              "      filter: drop-shadow(0px 1px 2px rgba(0, 0, 0, 0.3));\n",
              "      fill: #FFFFFF;\n",
              "    }\n",
              "  </style>\n",
              "\n",
              "    <script>\n",
              "      const buttonEl =\n",
              "        document.querySelector('#df-58808f53-03cf-4996-90c3-9a746e3b99f9 button.colab-df-convert');\n",
              "      buttonEl.style.display =\n",
              "        google.colab.kernel.accessAllowed ? 'block' : 'none';\n",
              "\n",
              "      async function convertToInteractive(key) {\n",
              "        const element = document.querySelector('#df-58808f53-03cf-4996-90c3-9a746e3b99f9');\n",
              "        const dataTable =\n",
              "          await google.colab.kernel.invokeFunction('convertToInteractive',\n",
              "                                                    [key], {});\n",
              "        if (!dataTable) return;\n",
              "\n",
              "        const docLinkHtml = 'Like what you see? Visit the ' +\n",
              "          '<a target=\"_blank\" href=https://colab.research.google.com/notebooks/data_table.ipynb>data table notebook</a>'\n",
              "          + ' to learn more about interactive tables.';\n",
              "        element.innerHTML = '';\n",
              "        dataTable['output_type'] = 'display_data';\n",
              "        await google.colab.output.renderOutput(dataTable, element);\n",
              "        const docLink = document.createElement('div');\n",
              "        docLink.innerHTML = docLinkHtml;\n",
              "        element.appendChild(docLink);\n",
              "      }\n",
              "    </script>\n",
              "  </div>\n",
              "\n",
              "\n",
              "<div id=\"df-d7f313b8-6315-4fad-a1d0-da49df6d0b6d\">\n",
              "  <button class=\"colab-df-quickchart\" onclick=\"quickchart('df-d7f313b8-6315-4fad-a1d0-da49df6d0b6d')\"\n",
              "            title=\"Suggest charts\"\n",
              "            style=\"display:none;\">\n",
              "\n",
              "<svg xmlns=\"http://www.w3.org/2000/svg\" height=\"24px\"viewBox=\"0 0 24 24\"\n",
              "     width=\"24px\">\n",
              "    <g>\n",
              "        <path d=\"M19 3H5c-1.1 0-2 .9-2 2v14c0 1.1.9 2 2 2h14c1.1 0 2-.9 2-2V5c0-1.1-.9-2-2-2zM9 17H7v-7h2v7zm4 0h-2V7h2v10zm4 0h-2v-4h2v4z\"/>\n",
              "    </g>\n",
              "</svg>\n",
              "  </button>\n",
              "\n",
              "<style>\n",
              "  .colab-df-quickchart {\n",
              "      --bg-color: #E8F0FE;\n",
              "      --fill-color: #1967D2;\n",
              "      --hover-bg-color: #E2EBFA;\n",
              "      --hover-fill-color: #174EA6;\n",
              "      --disabled-fill-color: #AAA;\n",
              "      --disabled-bg-color: #DDD;\n",
              "  }\n",
              "\n",
              "  [theme=dark] .colab-df-quickchart {\n",
              "      --bg-color: #3B4455;\n",
              "      --fill-color: #D2E3FC;\n",
              "      --hover-bg-color: #434B5C;\n",
              "      --hover-fill-color: #FFFFFF;\n",
              "      --disabled-bg-color: #3B4455;\n",
              "      --disabled-fill-color: #666;\n",
              "  }\n",
              "\n",
              "  .colab-df-quickchart {\n",
              "    background-color: var(--bg-color);\n",
              "    border: none;\n",
              "    border-radius: 50%;\n",
              "    cursor: pointer;\n",
              "    display: none;\n",
              "    fill: var(--fill-color);\n",
              "    height: 32px;\n",
              "    padding: 0;\n",
              "    width: 32px;\n",
              "  }\n",
              "\n",
              "  .colab-df-quickchart:hover {\n",
              "    background-color: var(--hover-bg-color);\n",
              "    box-shadow: 0 1px 2px rgba(60, 64, 67, 0.3), 0 1px 3px 1px rgba(60, 64, 67, 0.15);\n",
              "    fill: var(--button-hover-fill-color);\n",
              "  }\n",
              "\n",
              "  .colab-df-quickchart-complete:disabled,\n",
              "  .colab-df-quickchart-complete:disabled:hover {\n",
              "    background-color: var(--disabled-bg-color);\n",
              "    fill: var(--disabled-fill-color);\n",
              "    box-shadow: none;\n",
              "  }\n",
              "\n",
              "  .colab-df-spinner {\n",
              "    border: 2px solid var(--fill-color);\n",
              "    border-color: transparent;\n",
              "    border-bottom-color: var(--fill-color);\n",
              "    animation:\n",
              "      spin 1s steps(1) infinite;\n",
              "  }\n",
              "\n",
              "  @keyframes spin {\n",
              "    0% {\n",
              "      border-color: transparent;\n",
              "      border-bottom-color: var(--fill-color);\n",
              "      border-left-color: var(--fill-color);\n",
              "    }\n",
              "    20% {\n",
              "      border-color: transparent;\n",
              "      border-left-color: var(--fill-color);\n",
              "      border-top-color: var(--fill-color);\n",
              "    }\n",
              "    30% {\n",
              "      border-color: transparent;\n",
              "      border-left-color: var(--fill-color);\n",
              "      border-top-color: var(--fill-color);\n",
              "      border-right-color: var(--fill-color);\n",
              "    }\n",
              "    40% {\n",
              "      border-color: transparent;\n",
              "      border-right-color: var(--fill-color);\n",
              "      border-top-color: var(--fill-color);\n",
              "    }\n",
              "    60% {\n",
              "      border-color: transparent;\n",
              "      border-right-color: var(--fill-color);\n",
              "    }\n",
              "    80% {\n",
              "      border-color: transparent;\n",
              "      border-right-color: var(--fill-color);\n",
              "      border-bottom-color: var(--fill-color);\n",
              "    }\n",
              "    90% {\n",
              "      border-color: transparent;\n",
              "      border-bottom-color: var(--fill-color);\n",
              "    }\n",
              "  }\n",
              "</style>\n",
              "\n",
              "  <script>\n",
              "    async function quickchart(key) {\n",
              "      const quickchartButtonEl =\n",
              "        document.querySelector('#' + key + ' button');\n",
              "      quickchartButtonEl.disabled = true;  // To prevent multiple clicks.\n",
              "      quickchartButtonEl.classList.add('colab-df-spinner');\n",
              "      try {\n",
              "        const charts = await google.colab.kernel.invokeFunction(\n",
              "            'suggestCharts', [key], {});\n",
              "      } catch (error) {\n",
              "        console.error('Error during call to suggestCharts:', error);\n",
              "      }\n",
              "      quickchartButtonEl.classList.remove('colab-df-spinner');\n",
              "      quickchartButtonEl.classList.add('colab-df-quickchart-complete');\n",
              "    }\n",
              "    (() => {\n",
              "      let quickchartButtonEl =\n",
              "        document.querySelector('#df-d7f313b8-6315-4fad-a1d0-da49df6d0b6d button');\n",
              "      quickchartButtonEl.style.display =\n",
              "        google.colab.kernel.accessAllowed ? 'block' : 'none';\n",
              "    })();\n",
              "  </script>\n",
              "</div>\n",
              "    </div>\n",
              "  </div>\n"
            ]
          },
          "metadata": {},
          "execution_count": 1
        }
      ],
      "source": [
        "# Importar librerias\n",
        "\n",
        "import pandas as pd\n",
        "import numpy as np\n",
        "import tensorflow as tf\n",
        "from sklearn.utils import shuffle\n",
        "from tensorflow.keras.preprocessing.text import Tokenizer\n",
        "from tensorflow.keras.preprocessing.sequence import pad_sequences\n",
        "from sklearn.model_selection import train_test_split\n",
        "\n",
        "# Cargar conjunto de datos\n",
        "df = pd.read_csv('movieReviews.csv')\n",
        "\n",
        "# Cambiar el nombre de la columna\n",
        "df['User_Rating'] = df[\"User's Rating out of 10\"]\n",
        "df = df.drop(columns=[\"User's Rating out of 10\"])\n",
        "\n",
        "\n",
        "df.head()"
      ]
    },
    {
      "cell_type": "markdown",
      "metadata": {
        "id": "cztowpUSEib6"
      },
      "source": [
        "## **Datos**\n",
        "Para los datos podemos observar que se tienen las columnas: Date of Review, User, Usefulness Vote, Total Votes, Review Title Review y User_Rating. Lo primero que se hizo fue cambiar el nombre de User's Rating out of 10 por User_Rating para que fuera más sencillo identificar la columna. Para poder saber si la reseña era positiva o negativa se tuvo que crear una columna de Sentiment en la cual se colocó 0 si era un comentario negativo y 1 si era positivo. Para definir esto se tomó como buena película si el User_Rating era arriba de 7 de lo contrario era mala.\n"
      ]
    },
    {
      "cell_type": "code",
      "execution_count": 2,
      "metadata": {
        "colab": {
          "base_uri": "https://localhost:8080/"
        },
        "id": "Dw_ynIXhHZic",
        "outputId": "848abe66-6c23-4e40-edeb-13af8f823dff"
      },
      "outputs": [
        {
          "output_type": "stream",
          "name": "stdout",
          "text": [
            "Cantidad de reseñas positivas (1): 4793\n",
            "Cantidad de reseñas negativas (0): 1168\n"
          ]
        }
      ],
      "source": [
        "# Preprocesamiento de datos\n",
        "max_sequence_length = 5000\n",
        "vocab_size = 10000\n",
        "\n",
        "# Generar la columna Sentiment\n",
        "threshold = 7\n",
        "df['Sentiment'] = (df['User_Rating'] >= threshold).astype(int)\n",
        "\n",
        "conteo_sentimientos = df['Sentiment'].value_counts()\n",
        "\n",
        "# Imprimir canidad de reseñas\n",
        "print(\"Cantidad de reseñas positivas (1):\", conteo_sentimientos[1])\n",
        "print(\"Cantidad de reseñas negativas (0):\", conteo_sentimientos[0])"
      ]
    },
    {
      "cell_type": "markdown",
      "metadata": {
        "id": "x19YymHPFwhC"
      },
      "source": [
        "Se cuentan con más reseñas positivas por lo que puede haber un sesgo al momento de hacer el modelo por lo que se tomarán la misma cantidad de muestras para las positivas como las negativas."
      ]
    },
    {
      "cell_type": "code",
      "execution_count": 3,
      "metadata": {
        "colab": {
          "base_uri": "https://localhost:8080/"
        },
        "id": "tc095H8SXaoP",
        "outputId": "0079cf5d-5ff7-41c3-d8b5-bafee32f060e"
      },
      "outputs": [
        {
          "output_type": "stream",
          "name": "stdout",
          "text": [
            "Cantidad de reseñas positivas (1): 1168\n",
            "Cantidad de reseñas negativas (0): 1168\n"
          ]
        }
      ],
      "source": [
        "# Separar reseñas positivas y negativas\n",
        "positivas = df[df['Sentiment'] == 1]\n",
        "negativas = df[df['Sentiment'] == 0]\n",
        "\n",
        "# Equilibrar las clases tomando la misma cantidad de muestras de cada clase\n",
        "min_samples = min(len(positivas), len(negativas))\n",
        "positivas = positivas.sample(min_samples, random_state=42)\n",
        "negativas = negativas.sample(min_samples, random_state=42)\n",
        "\n",
        "# Combinar las clases equilibradas\n",
        "df_balanced = pd.concat([positivas, negativas])\n",
        "\n",
        "# Mezclar el conjunto de datos equilibrado\n",
        "df_balanced = shuffle(df_balanced, random_state=42)\n",
        "\n",
        "conteo_sentimientos = df_balanced['Sentiment'].value_counts()\n",
        "\n",
        "# Verificar misma cantidad de reseñas\n",
        "print(\"Cantidad de reseñas positivas (1):\", conteo_sentimientos[1])\n",
        "print(\"Cantidad de reseñas negativas (0):\", conteo_sentimientos[0])\n"
      ]
    },
    {
      "cell_type": "code",
      "execution_count": 4,
      "metadata": {
        "id": "KKvZ55JlHf9E"
      },
      "outputs": [],
      "source": [
        "# Tokenización y vectorización de texto\n",
        "tokenizer = Tokenizer(num_words=vocab_size)\n",
        "tokenizer.fit_on_texts(df_balanced['Review'])\n",
        "sequences = tokenizer.texts_to_sequences(df_balanced['Review'])\n",
        "data = pad_sequences(sequences, maxlen=max_sequence_length)\n",
        "\n",
        "# Etiquetas de sentimiento\n",
        "labels = df_balanced['Sentiment'].values\n"
      ]
    },
    {
      "cell_type": "markdown",
      "metadata": {
        "id": "uTnjW-tAGGhA"
      },
      "source": [
        "Se implementa la separación de los datos de entrenamiento y los de prueba\n",
        "\n",
        "\n",
        "## **Desarrollo del modelo**\n",
        "Para el modelo estoy ocupando una red neuronal recurrente (RNN). Comienza con una capa de embedding que convierte las palabras en vectores densos. Luego, sigue con una capa GRU que ayuda a capturar los patrones en las secuencias de datos. Finalmente, hay una capa densa de salida con una función de activación sigmoide que sirve para predecir la polaridad de la reseña (positiva o negativa).\n",
        "Se entrena en datos de entrenamiento y se evalúa en un conjunto de validación (prueba). Los resultados se evalúan utilizando la precisión como métrica."
      ]
    },
    {
      "cell_type": "code",
      "execution_count": 5,
      "metadata": {
        "colab": {
          "base_uri": "https://localhost:8080/"
        },
        "id": "axUcngimHkwo",
        "outputId": "e86c158c-1957-42e5-b715-043b8c2bb188"
      },
      "outputs": [
        {
          "output_type": "stream",
          "name": "stdout",
          "text": [
            "Epoch 1/5\n",
            "47/47 [==============================] - 515s 11s/step - loss: 0.6796 - accuracy: 0.5542 - val_loss: 0.5459 - val_accuracy: 0.7834\n",
            "Epoch 2/5\n",
            "47/47 [==============================] - 519s 11s/step - loss: 0.4444 - accuracy: 0.7999 - val_loss: 0.4098 - val_accuracy: 0.8316\n",
            "Epoch 3/5\n",
            "47/47 [==============================] - 519s 11s/step - loss: 0.1779 - accuracy: 0.9344 - val_loss: 0.4124 - val_accuracy: 0.8422\n",
            "Epoch 4/5\n",
            "47/47 [==============================] - 527s 11s/step - loss: 0.0500 - accuracy: 0.9839 - val_loss: 0.5549 - val_accuracy: 0.8262\n",
            "Epoch 5/5\n",
            "47/47 [==============================] - 522s 11s/step - loss: 0.0218 - accuracy: 0.9953 - val_loss: 0.6174 - val_accuracy: 0.8342\n"
          ]
        }
      ],
      "source": [
        "# División del dataset en train y test\n",
        "x_train, x_test, y_train, y_test = train_test_split(data, labels, test_size=0.2, random_state=42)\n",
        "\n",
        "# Configuración de semilla aleatoria\n",
        "tf.random.set_seed(42)\n",
        "\n",
        "\n",
        "# Construcción del modelo RNN con Embedding y GRU\n",
        "embed_size = 128\n",
        "model = tf.keras.Sequential([\n",
        "    tf.keras.layers.Embedding(input_dim=vocab_size, output_dim=embed_size, input_length=max_sequence_length),\n",
        "    tf.keras.layers.GRU(128),\n",
        "    tf.keras.layers.Dense(1, activation=\"sigmoid\")\n",
        "])\n",
        "\n",
        "model.compile(loss=\"binary_crossentropy\", optimizer=\"nadam\", metrics=[\"accuracy\"])\n",
        "\n",
        "# Entrenamiento del modelo\n",
        "history = model.fit(x_train, y_train, validation_split=0.2, epochs=5, batch_size=32)\n"
      ]
    },
    {
      "cell_type": "markdown",
      "metadata": {
        "id": "4G3rQJ7mKHkb"
      },
      "source": [
        "## **Resultados**"
      ]
    },
    {
      "cell_type": "code",
      "execution_count": 6,
      "metadata": {
        "colab": {
          "base_uri": "https://localhost:8080/"
        },
        "id": "jZDoMWpoP4BO",
        "outputId": "b93519e4-b85f-48c5-9397-06851d3e3f4f"
      },
      "outputs": [
        {
          "output_type": "stream",
          "name": "stdout",
          "text": [
            "15/15 [==============================] - 22s 1s/step - loss: 0.8382 - accuracy: 0.8077\n",
            "Exactitud en el conjunto de prueba: 0.807692289352417\n"
          ]
        }
      ],
      "source": [
        "# Evaluación del modelo en test\n",
        "test_loss, test_acc = model.evaluate(x_test, y_test)\n",
        "print(\"Exactitud en el conjunto de prueba:\", test_acc)"
      ]
    },
    {
      "cell_type": "code",
      "execution_count": 7,
      "metadata": {
        "colab": {
          "base_uri": "https://localhost:8080/"
        },
        "id": "hEaNgpkNHpTC",
        "outputId": "abade04e-37de-4770-ed1a-3640bf5fe8f0"
      },
      "outputs": [
        {
          "output_type": "stream",
          "name": "stdout",
          "text": [
            "15/15 [==============================] - 21s 1s/step\n",
            "\n",
            "Review 1\n",
            " Text: i don't think any of the new phase four marvel movies are bad i just don't think they need to exist after endgame perfectly wrapped everything up this movie changes that introducing new concepts for the mcu to play with and delivering fan service in a way that doesn't feel pandering it also has some unexpected moments spread throughout that surprised me and everyone one else watching needless to say this is the best one in the mcu's spider man trilogy and i'm glad that we were able to see all of these fun characters one more time\n",
            " Predicción: positivo\n",
            " Probabilidad: 0.9954739212989807\n",
            "\n",
            "Review 2\n",
            " Text: don't t put up your expectation too high overhyped and pretty dull i can say the plot well but predictable at the same time i was bored till the end the movie suitable for teenage girl from age 10 to 19\n",
            " Predicción: negativo\n",
            " Probabilidad: 0.00016352815146092325\n",
            "\n",
            "Review 3\n",
            " Text: villains are not in the least bit threatening gg is an absolute joke as an absolute parody of his former self and there's no real character arc development here besides for a convenient ending to pull spiderman back into the sony verse and out of the mcu doesn't need a spoiler here as everyone by now knows the what 'big reveal' is and it's just more shallow fan service lazy plot and contrived in line with so called these days and i'd compare this with the last star wars film to a tee don't listen to the raving fan boys reviews i'm rating it a 1 to only pull down the score my actual rating is more a long the lines of 6 0 as the effects are great and enough action to warrant a viewing however calling this the best spiderman film toby's 2nd one was the best is an insult not only to the films but the comics as well\n",
            " Predicción: negativo\n",
            " Probabilidad: 0.0002469704195391387\n",
            "\n",
            "Review 4\n",
            " Text: this movie is hands down in the same league as mcu's other giants tom holland really holds on his ground as spider man in this one with the magnitude of things near him you'll cherish every part of this movie and will one day look back as a fond memory\n",
            " Predicción: positivo\n",
            " Probabilidad: 0.9998811483383179\n",
            "\n",
            "Review 5\n",
            " Text: best movie of spiderman so far glad to see old characters funniest and darker in many aspects which was in a good way andrew and tobey did amazing job tom becomes what he was supposed to be they nailed it 👏 👏 👏 👏\n",
            " Predicción: positivo\n",
            " Probabilidad: 0.9997581243515015\n",
            "\n",
            "Review 6\n",
            " Text: i love spiderman movie but this movie must 3 hour why 3 hour too many characters main and villain must need character in this movie if this movie 3 hour i'll loved this overall my rating is 8 10\n",
            " Predicción: positivo\n",
            " Probabilidad: 0.9990546107292175\n",
            "\n",
            "Review 7\n",
            " Text: all he does is screw everything up instead of trying literally anything else immediately resorts to doctor strange to get his friends into college when the multiverse gets screwed up he rounds up all of the villains from other dimensions just to let them all go free he straight up saw them put innocent lives in danger and knew they were enemies of spiderman but lets them walk around unrestrained he gets aunt may killed and probably other people from the collateral damage then instead of using the cube to send everyone back to their own dimensions he wastes time making cures while they're out there doing god knows what then when the universe is falling apart peter tells doctor strange to make everyone forget about him to stop it and strange tells him no the stakes were the highest at this point in the movie and now he's not okay with it makes no sense the movie tries to get you to feel sad for peter but everything was just a result of his own incompetence\n",
            " Predicción: negativo\n",
            " Probabilidad: 0.0017889437731355429\n",
            "\n",
            "Review 8\n",
            " Text: pros there are hardly any still 1 all three spideys were shown in action together 2 multiple villians fought cons 1 too many characters but could not utilize the potential of any of them fully 2 very weak storyline 3 it was so boring sometimes got urges to skip fast forward some part\n",
            " Predicción: negativo\n",
            " Probabilidad: 0.00032032973831519485\n",
            "\n",
            "Review 9\n",
            " Text: from first moment to last no way home is immensely engaging so many emotions fan service and out of this world special effects very much a 10 amid a sea of marvel classics\n",
            " Predicción: positivo\n",
            " Probabilidad: 0.8502679467201233\n",
            "\n",
            "Review 10\n",
            " Text: you may disagree with me when it comes to the second half of the movie but especially the first half drags on and on about conversations doctor strange acting extremely out of character and the wong race against the clock becoming meaningless extremely quickly there is no plot here it's just characters from other dimensions who have no emotional connection to the main character whatsoever fighting each other no background stories for these characters no emotional weight considering they are all cameos anyway aunt may dying is sad of course but she's the least emotional weighted character for the audience over the course of the 3 movies it'd be better if she hadn't died at all it feels forced the fan service and nostalgia overwhelms immensely the old movies were wrapped up why do we only get cameos from some of the characters what about all the fun side characters from the old movies this movie is worse than space jam 2 because that one at least had a conflict between the dad and the son\n",
            " Predicción: negativo\n",
            " Probabilidad: 5.144123133504763e-05\n"
          ]
        }
      ],
      "source": [
        "# Realizar predicciones en test\n",
        "predictions = model.predict(x_test)\n",
        "\n",
        "predicted_labels = [\"positivo\" if pred >= 0.7 else \"negativo\" for pred in predictions]\n",
        "for i in range(10):\n",
        "    print(f\"\\nReview {i + 1}\\n Text: {tokenizer.sequences_to_texts([x_test[i]])[0]}\\n Predicción: {predicted_labels[i]}\\n Probabilidad: {predictions[i][0]}\")\n",
        "\n"
      ]
    },
    {
      "cell_type": "markdown",
      "metadata": {
        "id": "vHgDSpSjH0Ao"
      },
      "source": [
        "\n",
        "## **Ajuste del modelo**\n",
        "El modelo modificado incorpora un poco más de complejidad ya que incluye múltiples capas GRU, capas de dropout que sirven para la regularización y de esta forma evitar el sobreajuste además de que también se agregaron capas densas adicionales. Con esto es posible analizar patrones más complejos en las secuencias de reseñas y mejorar la capacidad del modelo para generalizar."
      ]
    },
    {
      "cell_type": "code",
      "execution_count": 8,
      "metadata": {
        "colab": {
          "base_uri": "https://localhost:8080/"
        },
        "id": "2GRX4yF_P8Bm",
        "outputId": "6c4caea5-0260-4be3-e640-961a8a872a10"
      },
      "outputs": [
        {
          "output_type": "stream",
          "name": "stdout",
          "text": [
            "Epoch 1/5\n",
            "47/47 [==============================] - 1488s 31s/step - loss: 0.6666 - accuracy: 0.5669 - val_loss: 0.5277 - val_accuracy: 0.7647\n",
            "Epoch 2/5\n",
            "47/47 [==============================] - 1475s 31s/step - loss: 0.3684 - accuracy: 0.8407 - val_loss: 0.4104 - val_accuracy: 0.8289\n",
            "Epoch 3/5\n",
            "47/47 [==============================] - 1474s 31s/step - loss: 0.1487 - accuracy: 0.9431 - val_loss: 0.5249 - val_accuracy: 0.7620\n",
            "Epoch 4/5\n",
            "47/47 [==============================] - 1478s 31s/step - loss: 0.0602 - accuracy: 0.9819 - val_loss: 0.7008 - val_accuracy: 0.7968\n",
            "Epoch 5/5\n",
            "47/47 [==============================] - 1477s 31s/step - loss: 0.0208 - accuracy: 0.9913 - val_loss: 0.8445 - val_accuracy: 0.8128\n"
          ]
        }
      ],
      "source": [
        "# Construcción del modelo RNN mejorado con Embedding, GRU, y recurrent dropout\n",
        "embed_size = 128\n",
        "model_modified = tf.keras.Sequential([\n",
        "    tf.keras.layers.Embedding(input_dim=vocab_size, output_dim=embed_size, input_length=max_sequence_length),\n",
        "    tf.keras.layers.GRU(128, return_sequences=True, recurrent_dropout=0.2),\n",
        "    tf.keras.layers.GRU(64, recurrent_dropout=0.2),\n",
        "    tf.keras.layers.Dense(32, activation='relu'),\n",
        "    tf.keras.layers.Dense(1, activation=\"sigmoid\")\n",
        "])\n",
        "\n",
        "model_modified.compile(loss=\"binary_crossentropy\", optimizer=\"nadam\", metrics=[\"accuracy\"])\n",
        "\n",
        "# Entrenamiento del modelo\n",
        "history_modified = model_modified.fit(x_train, y_train, validation_split=0.2, epochs=5, batch_size=32)"
      ]
    },
    {
      "cell_type": "markdown",
      "metadata": {
        "id": "sTPGNeeJKASW"
      },
      "source": [
        "## **Resultados**\n"
      ]
    },
    {
      "cell_type": "code",
      "execution_count": 9,
      "metadata": {
        "colab": {
          "base_uri": "https://localhost:8080/"
        },
        "id": "bfVnpVdgQWsd",
        "outputId": "bbb52468-f1c1-4a63-8b73-71918f536e4b"
      },
      "outputs": [
        {
          "output_type": "stream",
          "name": "stdout",
          "text": [
            "15/15 [==============================] - 40s 3s/step - loss: 0.8132 - accuracy: 0.7949\n",
            "Exactitud en el conjunto de prueba: 0.7948718070983887\n",
            "15/15 [==============================] - 40s 3s/step\n",
            "Review 1\n",
            " Text: i don't think any of the new phase four marvel movies are bad i just don't think they need to exist after endgame perfectly wrapped everything up this movie changes that introducing new concepts for the mcu to play with and delivering fan service in a way that doesn't feel pandering it also has some unexpected moments spread throughout that surprised me and everyone one else watching needless to say this is the best one in the mcu's spider man trilogy and i'm glad that we were able to see all of these fun characters one more time\n",
            " Predicción: positivo\n",
            " Probabilidad: 0.9996885061264038\n",
            "Review 2\n",
            " Text: don't t put up your expectation too high overhyped and pretty dull i can say the plot well but predictable at the same time i was bored till the end the movie suitable for teenage girl from age 10 to 19\n",
            " Predicción: negativo\n",
            " Probabilidad: 0.00033759590587578714\n",
            "Review 3\n",
            " Text: villains are not in the least bit threatening gg is an absolute joke as an absolute parody of his former self and there's no real character arc development here besides for a convenient ending to pull spiderman back into the sony verse and out of the mcu doesn't need a spoiler here as everyone by now knows the what 'big reveal' is and it's just more shallow fan service lazy plot and contrived in line with so called these days and i'd compare this with the last star wars film to a tee don't listen to the raving fan boys reviews i'm rating it a 1 to only pull down the score my actual rating is more a long the lines of 6 0 as the effects are great and enough action to warrant a viewing however calling this the best spiderman film toby's 2nd one was the best is an insult not only to the films but the comics as well\n",
            " Predicción: negativo\n",
            " Probabilidad: 0.0012630484998226166\n",
            "Review 4\n",
            " Text: this movie is hands down in the same league as mcu's other giants tom holland really holds on his ground as spider man in this one with the magnitude of things near him you'll cherish every part of this movie and will one day look back as a fond memory\n",
            " Predicción: positivo\n",
            " Probabilidad: 0.9998646378517151\n",
            "Review 5\n",
            " Text: best movie of spiderman so far glad to see old characters funniest and darker in many aspects which was in a good way andrew and tobey did amazing job tom becomes what he was supposed to be they nailed it 👏 👏 👏 👏\n",
            " Predicción: positivo\n",
            " Probabilidad: 0.9997246265411377\n",
            "Review 6\n",
            " Text: i love spiderman movie but this movie must 3 hour why 3 hour too many characters main and villain must need character in this movie if this movie 3 hour i'll loved this overall my rating is 8 10\n",
            " Predicción: positivo\n",
            " Probabilidad: 0.9997613430023193\n",
            "Review 7\n",
            " Text: all he does is screw everything up instead of trying literally anything else immediately resorts to doctor strange to get his friends into college when the multiverse gets screwed up he rounds up all of the villains from other dimensions just to let them all go free he straight up saw them put innocent lives in danger and knew they were enemies of spiderman but lets them walk around unrestrained he gets aunt may killed and probably other people from the collateral damage then instead of using the cube to send everyone back to their own dimensions he wastes time making cures while they're out there doing god knows what then when the universe is falling apart peter tells doctor strange to make everyone forget about him to stop it and strange tells him no the stakes were the highest at this point in the movie and now he's not okay with it makes no sense the movie tries to get you to feel sad for peter but everything was just a result of his own incompetence\n",
            " Predicción: negativo\n",
            " Probabilidad: 0.2388293445110321\n",
            "Review 8\n",
            " Text: pros there are hardly any still 1 all three spideys were shown in action together 2 multiple villians fought cons 1 too many characters but could not utilize the potential of any of them fully 2 very weak storyline 3 it was so boring sometimes got urges to skip fast forward some part\n",
            " Predicción: negativo\n",
            " Probabilidad: 0.0005444493144750595\n",
            "Review 9\n",
            " Text: from first moment to last no way home is immensely engaging so many emotions fan service and out of this world special effects very much a 10 amid a sea of marvel classics\n",
            " Predicción: positivo\n",
            " Probabilidad: 0.98150235414505\n",
            "Review 10\n",
            " Text: you may disagree with me when it comes to the second half of the movie but especially the first half drags on and on about conversations doctor strange acting extremely out of character and the wong race against the clock becoming meaningless extremely quickly there is no plot here it's just characters from other dimensions who have no emotional connection to the main character whatsoever fighting each other no background stories for these characters no emotional weight considering they are all cameos anyway aunt may dying is sad of course but she's the least emotional weighted character for the audience over the course of the 3 movies it'd be better if she hadn't died at all it feels forced the fan service and nostalgia overwhelms immensely the old movies were wrapped up why do we only get cameos from some of the characters what about all the fun side characters from the old movies this movie is worse than space jam 2 because that one at least had a conflict between the dad and the son\n",
            " Predicción: negativo\n",
            " Probabilidad: 0.0003918349975720048\n"
          ]
        }
      ],
      "source": [
        "# Evaluación del modelo en el conjunto de prueba\n",
        "test_loss, test_acc = model_modified.evaluate(x_test, y_test)\n",
        "print(\"Exactitud en el conjunto de prueba:\", test_acc)\n",
        "\n",
        "# Realizar predicciones en el conjunto de prueba\n",
        "predictions = model_modified.predict(x_test)\n",
        "predicted_labels = [\"positivo\" if pred >= 0.7 else \"negativo\" for pred in predictions]\n",
        "for i in range(10):\n",
        "    print(f\"Review {i + 1}\\n Text: {tokenizer.sequences_to_texts([x_test[i]])[0]}\\n Predicción: {predicted_labels[i]}\\n Probabilidad: {predictions[i][0]}\")\n",
        "\n"
      ]
    },
    {
      "cell_type": "markdown",
      "metadata": {
        "id": "rQsRbn0LLjUO"
      },
      "source": [
        "## **Curvas de aprendizaje**"
      ]
    },
    {
      "cell_type": "code",
      "execution_count": 10,
      "metadata": {
        "colab": {
          "base_uri": "https://localhost:8080/",
          "height": 768
        },
        "id": "SNNYbBpeeplu",
        "outputId": "480723fe-871d-49bb-fc68-013debc9714f"
      },
      "outputs": [
        {
          "output_type": "display_data",
          "data": {
            "text/plain": [
              "<Figure size 1200x400 with 2 Axes>"
            ],
            "image/png": "[encoded data removed]"
          },
          "metadata": {}
        },
        {
          "output_type": "display_data",
          "data": {
            "text/plain": [
              "<Figure size 1200x400 with 2 Axes>"
            ],
            "image/png": "[encoded data removed]"
          },
          "metadata": {}
        }
      ],
      "source": [
        "import seaborn as sns\n",
        "import matplotlib.pyplot as plt\n",
        "\n",
        "sns.set(style=\"darkgrid\")\n",
        "colors = sns.hls_palette(h=.5)\n",
        "\n",
        "# Función para visualizar la curva de aprendizaje\n",
        "def plot_learning_curve(history, title):\n",
        "    plt.figure(figsize=(12, 4))\n",
        "\n",
        "    # Loss plot\n",
        "    plt.subplot(1, 2, 1)\n",
        "    sns.lineplot(x=range(1, len(history.history['loss']) + 1), y=history.history['loss'], label='Train', color=colors[0])\n",
        "    sns.lineplot(x=range(1, len(history.history['val_loss']) + 1), y=history.history['val_loss'], label='Validation', color=colors[1])\n",
        "    plt.title('Loss - ' + title)\n",
        "    plt.xlabel('Epochs')\n",
        "    plt.ylabel('Loss')\n",
        "    plt.legend()\n",
        "\n",
        "    # Accuracy plot\n",
        "    plt.subplot(1, 2, 2)\n",
        "    sns.lineplot(x=range(1, len(history.history['accuracy']) + 1), y=history.history['accuracy'], label='Train', color=colors[0])\n",
        "    sns.lineplot(x=range(1, len(history.history['val_accuracy']) + 1), y=history.history['val_accuracy'], label='Validation', color=colors[1])\n",
        "    plt.title('Accuracy - ' + title)\n",
        "    plt.xlabel('Epochs')\n",
        "    plt.ylabel('Accuracy')\n",
        "    plt.legend()\n",
        "\n",
        "    plt.tight_layout()\n",
        "    plt.show()\n",
        "\n",
        "# Visualizar curva de aprendizaje para el modelo original\n",
        "plot_learning_curve(history, 'Modelo Original')\n",
        "\n",
        "# Visualizar curva de aprendizaje para el modelo modificado\n",
        "plot_learning_curve(history_modified, 'Modelo Modificado')\n",
        "\n"
      ]
    },
    {
      "cell_type": "markdown",
      "metadata": {
        "id": "9r-TDRZmI0qC"
      },
      "source": [
        "## **Predicciones**\n"
      ]
    },
    {
      "cell_type": "code",
      "execution_count": 11,
      "metadata": {
        "colab": {
          "base_uri": "https://localhost:8080/"
        },
        "id": "vzctnzErHrDg",
        "outputId": "293771bb-abb4-4c84-fdaf-ca2ebbde23ee"
      },
      "outputs": [
        {
          "output_type": "stream",
          "name": "stdout",
          "text": [
            "1/1 [==============================] - 0s 442ms/step\n",
            "1/1 [==============================] - 3s 3s/step\n",
            "\n",
            "Review 1\n",
            "\n",
            "Text: I was really looking forward to Spider-Man: No Way Home, but it left me feeling underwhelmed. The plot was overly convoluted, and the constant introductions of new characters left little room for character development. It had its moments, but overall, it didn't live up to the hype.\n",
            "\n",
            "--- BEFORE ADJUSTING HYPERPARAMETERS ---\n",
            "\n",
            "Prediction: 0.091744184\n",
            "Sentiment prediction: negativo\n",
            "\n",
            "--- AFTER ADJUSTING HYPERPARAMETERS ---\n",
            "\n",
            "Prediccion mod: 0.0077168616\n",
            "Predicción de sentimiento mod: negativo\n",
            "------------------------------\n",
            "\n",
            "Review 2\n",
            "\n",
            "Text: Spider-Man: No Way Home exceeded all my expectations. The action sequences were breathtaking, and the way they brought back familiar characters from previous Spider-Man films was pure nostalgia. This movie is a must-see for any Marvel fan.\n",
            "\n",
            "--- BEFORE ADJUSTING HYPERPARAMETERS ---\n",
            "\n",
            "Prediction: 0.97655725\n",
            "Sentiment prediction: positivo\n",
            "\n",
            "--- AFTER ADJUSTING HYPERPARAMETERS ---\n",
            "\n",
            "Prediccion mod: 0.97857034\n",
            "Predicción de sentimiento mod: positivo\n",
            "------------------------------\n"
          ]
        }
      ],
      "source": [
        "# Realizar predicciones\n",
        "sample_review = [\"I was really looking forward to Spider-Man: No Way Home, but it left me feeling underwhelmed. The plot was overly convoluted, and the constant introductions of new characters left little room for character development. It had its moments, but overall, it didn't live up to the hype.\",\n",
        "                 \"Spider-Man: No Way Home exceeded all my expectations. The action sequences were breathtaking, and the way they brought back familiar characters from previous Spider-Man films was pure nostalgia. This movie is a must-see for any Marvel fan.\"]\n",
        "sample_sequences = tokenizer.texts_to_sequences(sample_review)\n",
        "sample_data = pad_sequences(sample_sequences, maxlen=max_sequence_length)\n",
        "prediction = model.predict(sample_data)\n",
        "prediction_mod = model_modified.predict(sample_data)\n",
        "\n",
        "\n",
        "predicted_labels = [\"positivo\" if pred > 0.7 else \"negativo\" for pred in prediction]\n",
        "predicted_labels_mod = [\"positivo\" if pred > 0.7 else \"negativo\" for pred in prediction_mod]\n",
        "\n",
        "\n",
        "for rev in range (len(sample_review)):\n",
        "    print(f\"\\nReview {rev + 1}\\n\")\n",
        "    print(\"Text:\", sample_review[rev])\n",
        "\n",
        "    print(\"\\n--- BEFORE ADJUSTING HYPERPARAMETERS ---\\n\")\n",
        "    print(\"Prediction:\", prediction[rev][0])\n",
        "    print(\"Sentiment prediction:\", predicted_labels[rev])\n",
        "\n",
        "    print(\"\\n--- AFTER ADJUSTING HYPERPARAMETERS ---\\n\")\n",
        "\n",
        "    print(\"Prediccion mod:\", prediction_mod[rev][0])\n",
        "    print(\"Predicción de sentimiento mod:\", predicted_labels_mod[rev])\n",
        "\n",
        "    print(\"------------------------------\")\n",
        "\n"
      ]
    },
    {
      "cell_type": "markdown",
      "metadata": {
        "id": "niIRScJYKsVu"
      },
      "source": [
        "## **Conclusiones**\n",
        "\n",
        "Tras evaluar el modelo original, se observó que, aunque pudo capturar patrones básicos en las reseñas, su capacidad para comprender matices en el sentimiento podría ser limitada. Por ende, se propone mejorar la arquitectura mediante la adición de capas más complejas o la exploración de modelos avanzados, así como la implementación de técnicas de regularización, como capas de dropout. También se ajustaron los hiperparámetros, tales como el tamaño del embedding y las unidades GRU, para optimizar el rendimiento del modelo.\n",
        "\n",
        "Por otro lado, el modelo modificado, con su arquitectura más compleja y técnicas de regularización, representa un intento de abordar estas limitaciones.\n",
        "\n",
        "Sin embargo, una de las áreas de mejora puede ser la optimización más detallada de los hiperparámetros y un análisis exhaustivo de las curvas de aprendizaje para detectar posibles problemas de sobreajuste o subajuste. Además, explorar las representaciones intermedias de las capas y diversificar el conjunto de datos podrían contribuir significativamente a la mejora del rendimiento del modelo. Tambien un dataset un poco más extenso podría ser bueno para un mejor entrenamiento del modelo."
      ]
    }
  ],
  "metadata": {
    "accelerator": "TPU",
    "colab": {
      "provenance": []
    },
    "kernelspec": {
      "display_name": "Python 3",
      "name": "python3"
    },
    "language_info": {
      "name": "python"
    }
  },
  "nbformat": 4,
  "nbformat_minor": 0
}